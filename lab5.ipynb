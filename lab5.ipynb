{
 "cells": [
  {
   "cell_type": "code",
   "execution_count": 20,
   "metadata": {
    "collapsed": true,
    "ExecuteTime": {
     "end_time": "2024-04-06T06:26:25.914256700Z",
     "start_time": "2024-04-06T06:26:25.906095900Z"
    }
   },
   "outputs": [],
   "source": [
    "import pandas as pd\n",
    "from sklearn.feature_extraction.text import CountVectorizer\n",
    "from sklearn.model_selection import train_test_split\n",
    "from sklearn.metrics import accuracy_score\n",
    "from sklearn.metrics import classification_report\n",
    "from sklearn.linear_model import LogisticRegression"
   ]
  },
  {
   "cell_type": "code",
   "execution_count": 21,
   "outputs": [
    {
     "name": "stdout",
     "output_type": "stream",
     "text": [
      "Negative              1040\n",
      "Positive               947\n",
      "Neutral                619\n",
      "Extremely Positive     599\n",
      "Extremely Negative     591\n",
      "Name: Sentiment, dtype: int64\n"
     ]
    }
   ],
   "source": [
    "df = pd.read_csv('twitter.csv')\n",
    "df = df[['Text', 'Sentiment']]\n",
    "\n",
    "print(df.Sentiment.value_counts())"
   ],
   "metadata": {
    "collapsed": false,
    "ExecuteTime": {
     "end_time": "2024-04-06T06:26:25.949704500Z",
     "start_time": "2024-04-06T06:26:25.914378800Z"
    }
   }
  },
  {
   "cell_type": "code",
   "execution_count": 22,
   "outputs": [],
   "source": [
    "import re\n",
    "import string\n",
    "\n",
    "def preprocess(txt):\n",
    "    txt = txt.lower()\n",
    "    txt = re.sub(\"\\d\", \" \", txt)\n",
    "    txt = re.sub('[%s]' % re.escape(string.punctuation), ' ', txt)\n",
    "    txt = re.sub('\\n', ' ', txt)\n",
    "    return txt"
   ],
   "metadata": {
    "collapsed": false,
    "ExecuteTime": {
     "end_time": "2024-04-06T06:26:25.949704500Z",
     "start_time": "2024-04-06T06:26:25.942448300Z"
    }
   }
  },
  {
   "cell_type": "code",
   "execution_count": 23,
   "outputs": [
    {
     "name": "stdout",
     "output_type": "stream",
     "text": [
      "                                                   Text           Sentiment\n",
      "0     When I couldn't find hand sanitizer at Fred Me...            Positive\n",
      "1     Find out how you can protect yourself and love...  Extremely Positive\n",
      "2     #toiletpaper #dunnypaper #coronavirus #coronav...             Neutral\n",
      "3     Do you remember the last time you paid $2.99 a...             Neutral\n",
      "4     Voting in the age of #coronavirus = hand sanit...            Positive\n",
      "...                                                 ...                 ...\n",
      "3791  Meanwhile In A Supermarket in Israel -- People...            Positive\n",
      "3792  Did you panic buy a lot of non-perishable item...            Negative\n",
      "3793  Asst Prof of Economics @cconces was on @NBCPhi...             Neutral\n",
      "3794  Gov need to do somethings instead of biar je r...  Extremely Negative\n",
      "3795  I and @ForestandPaper members are committed to...  Extremely Positive\n",
      "\n",
      "[3796 rows x 2 columns]\n"
     ]
    }
   ],
   "source": [
    "print(df)\n",
    "df.Text = df.Text.apply(preprocess)"
   ],
   "metadata": {
    "collapsed": false,
    "ExecuteTime": {
     "end_time": "2024-04-06T06:26:26.009106600Z",
     "start_time": "2024-04-06T06:26:25.948170200Z"
    }
   }
  },
  {
   "cell_type": "code",
   "execution_count": 24,
   "outputs": [
    {
     "name": "stdout",
     "output_type": "stream",
     "text": [
      "                                                   Text           Sentiment\n",
      "0     when i couldn t find hand sanitizer at fred me...            Positive\n",
      "1     find out how you can protect yourself and love...  Extremely Positive\n",
      "2      toiletpaper  dunnypaper  coronavirus  coronav...             Neutral\n",
      "3     do you remember the last time you paid       a...             Neutral\n",
      "4     voting in the age of  coronavirus   hand sanit...            Positive\n",
      "...                                                 ...                 ...\n",
      "3791  meanwhile in a supermarket in israel    people...            Positive\n",
      "3792  did you panic buy a lot of non perishable item...            Negative\n",
      "3793  asst prof of economics  cconces was on  nbcphi...             Neutral\n",
      "3794  gov need to do somethings instead of biar je r...  Extremely Negative\n",
      "3795  i and  forestandpaper members are committed to...  Extremely Positive\n",
      "\n",
      "[3796 rows x 2 columns]\n"
     ]
    }
   ],
   "source": [
    "print(df)"
   ],
   "metadata": {
    "collapsed": false,
    "ExecuteTime": {
     "end_time": "2024-04-06T06:26:26.009106600Z",
     "start_time": "2024-04-06T06:26:25.984801Z"
    }
   }
  },
  {
   "cell_type": "code",
   "execution_count": 25,
   "outputs": [],
   "source": [
    "cvec = CountVectorizer()\n",
    "X_transformed = cvec.fit_transform(df.Text)\n",
    "X_train, X_test, y_train, y_test = train_test_split(X_transformed, df.Sentiment, test_size=0.2)"
   ],
   "metadata": {
    "collapsed": false,
    "ExecuteTime": {
     "end_time": "2024-04-06T06:26:26.082762500Z",
     "start_time": "2024-04-06T06:26:25.994085300Z"
    }
   }
  },
  {
   "cell_type": "code",
   "execution_count": 26,
   "outputs": [
    {
     "name": "stdout",
     "output_type": "stream",
     "text": [
      "accuracy score 0.4342105263157895\n",
      "                    precision    recall  f1-score   support\n",
      "\n",
      "Extremely Negative       0.53      0.48      0.50       116\n",
      "Extremely Positive       0.61      0.41      0.49       136\n",
      "          Negative       0.42      0.39      0.41       217\n",
      "           Neutral       0.39      0.55      0.46       108\n",
      "          Positive       0.35      0.40      0.37       183\n",
      "\n",
      "          accuracy                           0.43       760\n",
      "         macro avg       0.46      0.45      0.45       760\n",
      "      weighted avg       0.45      0.43      0.44       760\n"
     ]
    }
   ],
   "source": [
    "def eval_model(y_true, y_predicted):\n",
    "    print('accuracy score', accuracy_score(y_true, y_predicted))\n",
    "    print(classification_report(y_true, y_predicted))\n",
    "\n",
    "model = LogisticRegression(max_iter=1000)\n",
    "model.fit(X_train, y_train)\n",
    "\n",
    "y_pred = model.predict(X_test)\n",
    "\n",
    "eval_model(y_test, y_pred)"
   ],
   "metadata": {
    "collapsed": false,
    "ExecuteTime": {
     "end_time": "2024-04-06T06:26:27.365376Z",
     "start_time": "2024-04-06T06:26:26.082762500Z"
    }
   }
  }
 ],
 "metadata": {
  "kernelspec": {
   "display_name": "Python 3",
   "language": "python",
   "name": "python3"
  },
  "language_info": {
   "codemirror_mode": {
    "name": "ipython",
    "version": 2
   },
   "file_extension": ".py",
   "mimetype": "text/x-python",
   "name": "python",
   "nbconvert_exporter": "python",
   "pygments_lexer": "ipython2",
   "version": "2.7.6"
  }
 },
 "nbformat": 4,
 "nbformat_minor": 0
}
